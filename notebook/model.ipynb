{
 "cells": [
  {
   "cell_type": "code",
   "execution_count": null,
   "metadata": {},
   "outputs": [],
   "source": [
    "import pandas as pd\n",
    "\n",
    "from pathlib import Path\n",
    "from os import chdir\n",
    "\n",
    "chdir(\"/Users/shahrez/Documents/Developer/projects/mclaren_applied\")"
   ]
  },
  {
   "cell_type": "code",
   "execution_count": null,
   "metadata": {},
   "outputs": [],
   "source": [
    "# Load the data from CSV files\n",
    "club_data = pd.read_csv(Path.cwd() / 'data/club_data.csv')\n",
    "planet_data = pd.read_csv(Path.cwd() / 'data/planet_data.csv')\n",
    "training_data = pd.read_csv(Path.cwd() / 'data/training_data.csv')\n",
    "test_data = pd.read_csv(Path.cwd() / 'data/test_data.csv')\n"
   ]
  },
  {
   "cell_type": "code",
   "execution_count": null,
   "metadata": {},
   "outputs": [],
   "source": [
    "import math\n",
    "\n",
    "club_data['initial_ball_speed (m/s)'] = 1.5 * club_data['swing_speed (m/s)']\n",
    "data = training_data.merge(planet_data, on='planet').merge(club_data, on='club')\n",
    "t_data = test_data.merge(planet_data, on='planet').merge(club_data, on='club')\n",
    "# Calculate initial ball speed\n",
    "\n",
    "def projectile_distance(v, g, deg):\n",
    "    angle_radians = math.radians(deg)\n",
    "    return (v**2/g)*math.sin(2*angle_radians)\n",
    "\n",
    "data['loft_angle (rad)'] = data.apply(lambda row: math.radians(row['loft_angle (deg)']), axis=1)\n",
    "t_data['loft_angle (rad)'] = t_data.apply(lambda row: math.radians(row['loft_angle (deg)']), axis=1)\n",
    "\n",
    "\n",
    "# X = merged_data.drop(columns=['club', 'planet_data'])\n",
    "# y = merged_data['club']  \n",
    "\n",
    "t_data\n"
   ]
  },
  {
   "cell_type": "code",
   "execution_count": null,
   "metadata": {},
   "outputs": [],
   "source": [
    "import math\n",
    "def calculate_initial_velocity(swing_speed, loft_angle_deg):\n",
    "    \"\"\"\n",
    "    Calculate the initial velocity of a golf ball based on initial ball speed (m/s) and loft angle (degrees).\n",
    "\n",
    "    Args:\n",
    "    - initial_ball_speed (float): Initial ball speed in meters per second (m/s).\n",
    "    - loft_angle_deg (float): Loft angle in degrees.\n",
    "\n",
    "    Returns:\n",
    "    - initial_velocity (float): Initial velocity of the golf ball in meters per second (m/s).\n",
    "    \"\"\"\n",
    "    # Convert loft angle from degrees to radians\n",
    "    loft_angle_rad = math.radians(loft_angle_deg)\n",
    "    \n",
    "    # Calculate initial velocity using the provided equation\n",
    "    initial_velocity = 1.5 * swing_speed * (1 + math.sin(loft_angle_rad))\n",
    "    \n",
    "    return initial_velocity\n",
    "\n",
    "def projectile_distance(v, g, deg):\n",
    "    angle_radians = math.radians(deg)\n",
    "    return ((v**2)*math.sin(2*angle_radians))/g\n",
    "\n",
    "data['initial_velocity'] = data.apply(lambda row: calculate_initial_velocity(row['swing_speed (m/s)'], row['loft_angle (deg)']), axis=1)\n",
    "t_data['initial_velocity'] = t_data.apply(lambda row: calculate_initial_velocity(row['swing_speed (m/s)'], row['loft_angle (deg)']), axis=1)\n",
    "\n",
    "\n",
    "data['predicted_distance'] = data.apply(lambda row: projectile_distance(row['swing_speed (m/s)'] * 1.5, row['gravity (m/s^2)'],row['loft_angle (deg)'] ), axis=1)\n",
    "t_data['predicted_distance'] = t_data.apply(lambda row: projectile_distance(row['swing_speed (m/s)'] * 1.5, row['gravity (m/s^2)'],row['loft_angle (deg)'] ), axis=1)\n",
    "# Display the updated merged data\n",
    "t_data.head()"
   ]
  },
  {
   "cell_type": "code",
   "execution_count": null,
   "metadata": {},
   "outputs": [],
   "source": [
    "import matplotlib.pyplot as plt\n",
    "import seaborn as sns\n",
    "\n",
    "correlation_matrix = data[['shot_distance (m)','initial_velocity', 'air_density (kg/m^3)','gravity (m/s^2)', 'initial_ball_speed (m/s)','loft_angle (rad)']].corr()\n",
    "plt.figure(figsize=(8, 6))\n",
    "sns.heatmap(correlation_matrix, annot=True, cmap='coolwarm', vmin=-1, vmax=1)\n",
    "plt.title('Correlation Heatmap')\n",
    "plt.show()"
   ]
  },
  {
   "cell_type": "code",
   "execution_count": null,
   "metadata": {},
   "outputs": [],
   "source": [
    "from sklearn.linear_model import LinearRegression\n",
    "from sklearn.tree import DecisionTreeRegressor\n",
    "from sklearn.ensemble import RandomForestRegressor\n",
    "X_test = t_data[['initial_velocity', 'air_density (kg/m^3)','gravity (m/s^2)', 'initial_ball_speed (m/s)','loft_angle (rad)']]\n",
    "X_train = data[['initial_velocity', 'air_density (kg/m^3)','gravity (m/s^2)', 'initial_ball_speed (m/s)','loft_angle (rad)']]\n",
    "y_test = t_data['shot_distance (m)']\n",
    "y_train = data['shot_distance (m)']\n",
    "# Fit a linear regression model\n",
    "model = LinearRegression()\n",
    "model.fit(X_train, y_train)\n",
    "\n",
    "# clf = RandomForestClassifier(n_estimators=100, max_depth=10, min_samples_split=5, random_state=42)\n",
    "# model.fit(X_train, y_train)"
   ]
  },
  {
   "cell_type": "code",
   "execution_count": null,
   "metadata": {},
   "outputs": [],
   "source": [
    "from sklearn.metrics import r2_score,mean_squared_error, accuracy_score\n",
    "\n",
    "y_pred = model.predict(X_test)\n",
    "\n",
    "r2 = r2_score(y_test, y_pred)\n",
    "mse = mean_squared_error(y_test, y_pred)\n",
    "model\n",
    "print(r2, mse)\n",
    "import matplotlib.pyplot as plt\n",
    "\n",
    "# Create a scatter plot\n",
    "plt.scatter(y_test, y_pred)\n",
    "plt.xlabel(\"Actual Values (y_test)\")\n",
    "plt.ylabel(\"Predicted Values (y_pred)\")\n",
    "plt.title(\"Scatter Plot of Actual vs. Predicted Values\")\n",
    "plt.grid(True)\n",
    "plt.show()\n",
    "# accuracy = accuracy_score(y_test, y_pred)\n",
    "# print(f\"Accuracy: {accuracy * 100:.2f}%\")\n",
    "\n",
    "print(y_pred)\n"
   ]
  },
  {
   "cell_type": "code",
   "execution_count": null,
   "metadata": {},
   "outputs": [],
   "source": [
    "count = 0\n",
    "closest_club = {}\n",
    "for _, row in t_data.iterrows():\n",
    "    planet_name = row['planet']\n",
    "    planet_gravity = row['gravity (m/s^2)']\n",
    "    planet_air_density = row['air_density (kg/m^3)']\n",
    "    actual_distance = row['shot_distance (m)']\n",
    "    actual_club = row['club']\n",
    "    club = {}\n",
    "    for _, row in club_data.iterrows():\n",
    "        club_name = row['club']\n",
    "        club_speed = row['swing_speed (m/s)'] * 1.5\n",
    "        club_angle = math.radians(row['loft_angle (deg)'])\n",
    "        club_velocity = calculate_initial_velocity(row['swing_speed (m/s)'], row['loft_angle (deg)'])\n",
    "        # 'initial_velocity':[club_velocity], 'air_density (kg/m^3)':[planet_air_density],'gravity (m/s^2)':[planet_gravity], 'initial_ball_speed (m/s)':[club_speed],'loft_angle (rad)':[club_angle]\n",
    "        df = pd.DataFrame({'initial_velocity':[club_velocity], 'air_density (kg/m^3)':[planet_air_density],'gravity (m/s^2)':[planet_gravity], 'initial_ball_speed (m/s)':[club_speed],'loft_angle (rad)':[club_angle]})\n",
    "        distance = model.predict(df)\n",
    "        # print(planet_name, actual_club, club_name, actual_distance - distance[0])\n",
    "        club[club_name]=abs(actual_distance - distance[0])\n",
    "    min_key = min(club, key=club.get)\n",
    "    # print(planet_name,actual_distance,min_key, actual_club)\n",
    "    if actual_club==min_key:\n",
    "        count +=1\n",
    "        \n",
    "print(count)\n",
    "    "
   ]
  }
 ],
 "metadata": {
  "kernelspec": {
   "display_name": "ml",
   "language": "python",
   "name": "python3"
  },
  "language_info": {
   "codemirror_mode": {
    "name": "ipython",
    "version": 3
   },
   "file_extension": ".py",
   "mimetype": "text/x-python",
   "name": "python",
   "nbconvert_exporter": "python",
   "pygments_lexer": "ipython3",
   "version": "3.9.15"
  },
  "orig_nbformat": 4
 },
 "nbformat": 4,
 "nbformat_minor": 2
}
